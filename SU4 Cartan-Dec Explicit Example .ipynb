{
 "cells": [
  {
   "cell_type": "markdown",
   "id": "4b6fec65",
   "metadata": {},
   "source": [
    "This Jupyter notebook complements the paper “Near-optimal Circuit construction via Cartan decomposition” found at [link to arXiv here]. Here, an explicit decomposition of an  $SU(4)$ operator is implemented, according to the steps and methods discussed in detail in the paper. The goal of this code is to show explicitly, in terms of the matrix representation of the operators, how the internal parameters of such a decomposition can be determined. This code is far from optimal in terms of implementation and run-time and serves simply as a pedagogical and applied example of how the Cartan decomposition for unitary operators described on the paper works in practice."
   ]
  },
  {
   "cell_type": "markdown",
   "id": "7ffabcea-c7a0-4fbb-8fce-0136d5db8edc",
   "metadata": {},
   "source": [
    "# Explicit Cartan decomposition of $SU(4)$ operator"
   ]
  },
  {
   "cell_type": "code",
   "execution_count": 2,
   "id": "a676041d-de3c-4a87-b045-52ba87ee0efe",
   "metadata": {
    "tags": []
   },
   "outputs": [],
   "source": [
    "import pennylane as qml\n",
    "import numpy as np\n",
    "from sympy import *\n",
    "from sympy import symbols"
   ]
  },
  {
   "cell_type": "code",
   "execution_count": 3,
   "id": "11a9f9ff-037f-4005-8f8e-4afc7dc686b2",
   "metadata": {},
   "outputs": [],
   "source": [
    "dev1 = qml.device('default.qubit', wires=2)"
   ]
  },
  {
   "cell_type": "markdown",
   "id": "41d4ed74-950c-4da7-abd0-5c8dd39671a9",
   "metadata": {},
   "source": [
    "## Definition of symbolic representations of operators for quantum computations"
   ]
  },
  {
   "cell_type": "markdown",
   "id": "202905ee",
   "metadata": {},
   "source": [
    "Here the symbolic variables are defined. These are the variables appearing in the $M_i$ and $N_i$ matrices of the decomposition (see equations (7) and (8) in the paper) and as the variables of the the remaining SU(2) rotations. Note that most QC software does not allow the construction and manipulation of symbolic operators, so from now on we will work with the matrix representation of the respective quantum operators."
   ]
  },
  {
   "cell_type": "code",
   "execution_count": 4,
   "id": "607b829c-946d-49b1-81e5-607d489c6b98",
   "metadata": {},
   "outputs": [],
   "source": [
    "a,b,c,d,e,f,g,h,i,j,k,l,m,n,o,p,q,r,s,t,u,v,w,x,y,z =symbols(\"a b c d e f g h i j k l m n o p q r s t u v w x y z\")\n",
    "\n",
    "## Symbolic SU(2) Rotations around x,y,z axes.\n",
    "\n",
    "def ROTX(x):\n",
    "    return Matrix([[cos(x/2), -I*sin(x/2)], [-I*sin(x/2), cos(x/2)]])\n",
    "def ROTY(y):\n",
    "    return Matrix([[cos(y/2), -sin(y/2)], [sin(y/2), cos(y/2)]])\n",
    "def ROTZ(z):\n",
    "    return Matrix([[cos(z/2)- I*sin(z/2), 0], [0, cos(z/2)+ I*sin(z/2)]])\n",
    "\n",
    "\n",
    "## CNOT(0,1) AND CNOT(1,0) respectively\n",
    "\n",
    "CNOT= Matrix([[1,0,0,0],[0,1,0,0],[0,0,0,1],[0,0,1,0]])\n",
    "CNOT2= Matrix([[1,0,0,0],[0,0,0,1],[0,0,1,0],[0,1,0,0]])"
   ]
  },
  {
   "cell_type": "markdown",
   "id": "9a87c9cd-596b-4c67-a95c-550e62d8286a",
   "metadata": {},
   "source": [
    "### Comparisson with Pennylane circuit and matrix representation"
   ]
  },
  {
   "cell_type": "markdown",
   "id": "4c80d8e2-7ba9-40c3-8e6a-b6402b05f969",
   "metadata": {},
   "source": [
    "For consistency, we want to verify that the circuit we construct with the symbolic matrix-operators matches the outcome of the equivalent quantum circuit implemented using Pennylane software. In this case, we create a 2-qubit circuit with an RX rotation by pi/4 followed by a pi/8 rotation around the y-axis, then a pi/4 rotation around the z-axis and finally a CNOT gate. The circuit is shown below:"
   ]
  },
  {
   "cell_type": "code",
   "execution_count": 5,
   "id": "ed22def0-81b6-4160-9e7f-cc6cee693228",
   "metadata": {},
   "outputs": [
    {
     "name": "stdout",
     "output_type": "stream",
     "text": [
      "0: ───────────────────────────────╭●─┤     \n",
      "1: ──RX(0.79)──RY(0.39)──RZ(0.79)─╰X─┤  <Z>\n"
     ]
    }
   ],
   "source": [
    "@qml.qnode(dev1)\n",
    "def circuit(params):\n",
    "    qml.RX(params[0], wires=1)\n",
    "    qml.RY(params[1], wires=1)\n",
    "    qml.RZ(params[2], wires=1)\n",
    "    qml.CNOT(wires=[0, 1])\n",
    "    return qml.expval(qml.PauliZ(1))\n",
    "params = [np.pi/4,np.pi/8,np.pi/4]\n",
    "print(qml.draw(circuit)(params))"
   ]
  },
  {
   "cell_type": "markdown",
   "id": "806aa24d-612e-4fb9-b50e-bb722e215412",
   "metadata": {},
   "source": [
    "The pennylane matrix representation of the above circuit is as follows (note the reversed order of operations with respect to the circuit above as qubits come from the left on circuits but matrix representations act from the right on qubits):"
   ]
  },
  {
   "cell_type": "code",
   "execution_count": 6,
   "id": "07fc0a4d-caa1-4ba0-98e6-490c93fdbf12",
   "metadata": {},
   "outputs": [
    {
     "data": {
      "text/latex": [
       "$\\displaystyle \\left[\\begin{matrix}0.86572291771948 - 0.277785116509801 i & -0.310152684699878 - 0.277785116509801 i & 0 & 0\\\\0.310152684699878 - 0.277785116509801 i & 0.86572291771948 + 0.277785116509801 i & 0 & 0\\\\0 & 0 & 0.310152684699878 - 0.277785116509801 i & 0.86572291771948 + 0.277785116509801 i\\\\0 & 0 & 0.86572291771948 - 0.277785116509801 i & -0.310152684699878 - 0.277785116509801 i\\end{matrix}\\right]$"
      ],
      "text/plain": [
       "Matrix([\n",
       "[ 0.86572291771948 - 0.277785116509801*I, -0.310152684699878 - 0.277785116509801*I,                                       0,                                        0],\n",
       "[0.310152684699878 - 0.277785116509801*I,   0.86572291771948 + 0.277785116509801*I,                                       0,                                        0],\n",
       "[                                      0,                                        0, 0.310152684699878 - 0.277785116509801*I,   0.86572291771948 + 0.277785116509801*I],\n",
       "[                                      0,                                        0,  0.86572291771948 - 0.277785116509801*I, -0.310152684699878 - 0.277785116509801*I]])"
      ]
     },
     "execution_count": 6,
     "metadata": {},
     "output_type": "execute_result"
    }
   ],
   "source": [
    "op = qml.prod(qml.CNOT(wires=[0,1]),qml.RZ(np.pi/4,wires=1),qml.RY(np.pi/8, wires=1),qml.RX(np.pi/4, wires=1))\n",
    "Matrix(qml.matrix(op))"
   ]
  },
  {
   "cell_type": "markdown",
   "id": "183044b3-1ee5-473b-9ab8-7dfc3bdadd91",
   "metadata": {},
   "source": [
    "We now want to compare the above matrix with the matrix-representation we obtain using the symbolic matrices defined above:"
   ]
  },
  {
   "cell_type": "code",
   "execution_count": 24,
   "id": "8b9af409-c4cf-4a4f-bcac-ef4677264aad",
   "metadata": {},
   "outputs": [
    {
     "data": {
      "text/latex": [
       "$\\displaystyle \\left[\\begin{matrix}0.86572291771948 - 0.277785116509801 i & -0.310152684699878 - 0.277785116509801 i & 0 & 0\\\\0.310152684699878 - 0.277785116509801 i & 0.86572291771948 + 0.277785116509801 i & 0 & 0\\\\0 & 0 & 0.310152684699878 - 0.277785116509801 i & 0.86572291771948 + 0.277785116509801 i\\\\0 & 0 & 0.86572291771948 - 0.277785116509801 i & -0.310152684699878 - 0.277785116509801 i\\end{matrix}\\right]$"
      ],
      "text/plain": [
       "Matrix([\n",
       "[ 0.86572291771948 - 0.277785116509801*I, -0.310152684699878 - 0.277785116509801*I,                                       0,                                        0],\n",
       "[0.310152684699878 - 0.277785116509801*I,   0.86572291771948 + 0.277785116509801*I,                                       0,                                        0],\n",
       "[                                      0,                                        0, 0.310152684699878 - 0.277785116509801*I,   0.86572291771948 + 0.277785116509801*I],\n",
       "[                                      0,                                        0,  0.86572291771948 - 0.277785116509801*I, -0.310152684699878 - 0.277785116509801*I]])"
      ]
     },
     "execution_count": 24,
     "metadata": {},
     "output_type": "execute_result"
    }
   ],
   "source": [
    "simplify(simplify(simplify(CNOT@np.kron(eye(2),ROTZ(np.pi/4)@ROTY(np.pi/8)@ROTX(np.pi/4)))))"
   ]
  },
  {
   "cell_type": "markdown",
   "id": "7fb68190-4431-4c40-9d6f-ed13eaff615a",
   "metadata": {},
   "source": [
    " As expected we obtain the same matrix representation of the quantum circuit."
   ]
  },
  {
   "cell_type": "markdown",
   "id": "d6675210-971f-4ac8-aedb-6db544b2a273",
   "metadata": {},
   "source": [
    "## Explicit SU(4) Cartan decomposition"
   ]
  },
  {
   "cell_type": "markdown",
   "id": "ca3a85ce-476c-41e0-a27e-89fb5c06d378",
   "metadata": {},
   "source": [
    "Starting with an arbitrary $SU(4)$ operator $V$, after carrying the Cartan decomposition $V= K_1 exp(y) K_2$ (as described in equation (2) on the paper) and after block-diagonalizing the exponential term $exp(y)=M(a,b,c)$ as described in section III of the paper, we obtain the following circuit:"
   ]
  },
  {
   "cell_type": "markdown",
   "id": "594b2aa2-0949-409d-96f5-a7a398bd3f1d",
   "metadata": {},
   "source": [
    "![SNOWFALL](circuit.jpg)\n"
   ]
  },
  {
   "cell_type": "markdown",
   "id": "275d1075-6399-4df3-a94a-18c4ca8d03af",
   "metadata": {},
   "source": [
    "In order to explicitly compute the parameters $a,b,c ...$ we need to first compute the matrix representation of the above circuit.\n"
   ]
  },
  {
   "cell_type": "code",
   "execution_count": 25,
   "id": "3a253c2f-c0aa-4f97-9896-5d5db8adaa86",
   "metadata": {},
   "outputs": [],
   "source": [
    "## Matrix representation of the circuit diagonalizing and executing the exponential term M(a,b,c)\n",
    "\n",
    "A=CNOT @np.kron(eye(2),ROTZ(-2*c))@CNOT@CNOT2@ np.kron(eye(2),ROTZ(-np.pi/2))@CNOT@np.kron(eye(2),ROTY(-2*b))@CNOT@np.kron(eye(2),ROTY(2*a))@np.kron(eye(2),ROTZ(np.pi/2))@CNOT2\n",
    "A=simplify(A)\n",
    "\n",
    "## SU(2) rotations on the left-hand-side of the circuit\n",
    "B=np.kron(eye(2),ROTZ(d)@ROTY(e)@ROTX(f))@ np.kron(ROTZ(g)@ROTY(h)@ROTX(i),eye(2))\n",
    "B=simplify(B)\n",
    "           \n",
    "## SU(2) rotations on the right-hand-side of the circuit\n",
    "C=np.kron(eye(2),ROTZ(j)@ROTY(k)@ROTX(l))@np.kron(ROTZ(m)@ROTY(n)@ROTX(r),eye(2))\n",
    "C=simplify(C)\n"
   ]
  },
  {
   "cell_type": "markdown",
   "id": "43962086-2bad-4080-9121-c920f41fd330",
   "metadata": {},
   "source": [
    "Finally, to obtain the matrix representation of the circuit above we simply multiply the matrices together"
   ]
  },
  {
   "cell_type": "code",
   "execution_count": 21,
   "id": "a82d4ed0-f721-43fa-8063-72629a1535af",
   "metadata": {},
   "outputs": [],
   "source": [
    "U=C@A@B"
   ]
  },
  {
   "cell_type": "markdown",
   "id": "773c585f-8c2a-419a-a1aa-682fe27733ef",
   "metadata": {},
   "source": [
    "## Computing the decomposition parameters"
   ]
  },
  {
   "cell_type": "markdown",
   "id": "2827afa9-3d8c-46fb-84e9-65ec794129f8",
   "metadata": {},
   "source": [
    "We now have the matrix representation of the Cartan decomposition of a $SU(4)$ operator $V$. In order to compute the parameters $a,b,c ...$, we need to compare each entry of the $U$ matrix we obtained above with the desired matrix $V$ we want to decompose. Note that we have $4x4$ matrices and only $15$ parameters, however, we have the additional constraint that $U \\in SU(4)$, which removes one degree of freedom. This leaves us with a system of 15 unknown variables and 15 non-linear equations."
   ]
  },
  {
   "cell_type": "markdown",
   "id": "0414045d-52ff-49ff-a324-8999383cb527",
   "metadata": {},
   "source": [
    "The system of equations is not a trivial one. For reference, let us see how one of the entries of the matrix $U$ we need to solve for looks like:"
   ]
  },
  {
   "cell_type": "code",
   "execution_count": 23,
   "id": "dc0ded54-172e-4a95-9fe3-b79635a7ba5a",
   "metadata": {},
   "outputs": [
    {
     "data": {
      "text/latex": [
       "$\\displaystyle \\left(\\sin{\\left(\\frac{e}{2} \\right)} \\cos{\\left(\\frac{f}{2} \\right)} - i \\sin{\\left(\\frac{f}{2} \\right)} \\cos{\\left(\\frac{e}{2} \\right)}\\right) \\left(\\sin{\\left(\\frac{h}{2} \\right)} \\cos{\\left(\\frac{i}{2} \\right)} - i \\sin{\\left(\\frac{i}{2} \\right)} \\cos{\\left(\\frac{h}{2} \\right)}\\right) \\left(1.0 \\left(\\sin{\\left(\\frac{k}{2} \\right)} \\cos{\\left(\\frac{l}{2} \\right)} + i \\sin{\\left(\\frac{l}{2} \\right)} \\cos{\\left(\\frac{k}{2} \\right)}\\right) \\left(\\sin{\\left(\\frac{n}{2} \\right)} \\cos{\\left(\\frac{r}{2} \\right)} + i \\sin{\\left(\\frac{r}{2} \\right)} \\cos{\\left(\\frac{n}{2} \\right)}\\right) e^{i c} e^{- \\frac{i j}{2} - \\frac{i m}{2}} \\cos{\\left(a - b \\right)} - \\left(0.707106781186548 + 0.707106781186547 i\\right)^{2} \\left(i \\sin{\\left(\\frac{k}{2} \\right)} \\sin{\\left(\\frac{l}{2} \\right)} + \\cos{\\left(\\frac{k}{2} \\right)} \\cos{\\left(\\frac{l}{2} \\right)}\\right) \\left(i \\sin{\\left(\\frac{n}{2} \\right)} \\sin{\\left(\\frac{r}{2} \\right)} + \\cos{\\left(\\frac{n}{2} \\right)} \\cos{\\left(\\frac{r}{2} \\right)}\\right) e^{i c} e^{- \\frac{i j}{2} - \\frac{i m}{2}} \\sin{\\left(a - b \\right)}\\right) e^{\\frac{i d}{2} + \\frac{i g}{2}} + \\left(\\sin{\\left(\\frac{e}{2} \\right)} \\cos{\\left(\\frac{f}{2} \\right)} - i \\sin{\\left(\\frac{f}{2} \\right)} \\cos{\\left(\\frac{e}{2} \\right)}\\right) \\left(i \\sin{\\left(\\frac{h}{2} \\right)} \\sin{\\left(\\frac{i}{2} \\right)} + \\cos{\\left(\\frac{h}{2} \\right)} \\cos{\\left(\\frac{i}{2} \\right)}\\right) \\left(- \\left(0.707106781186548 + 0.707106781186547 i\\right)^{2} \\left(i \\sin{\\left(c \\right)} - \\cos{\\left(c \\right)}\\right) \\left(\\sin{\\left(\\frac{n}{2} \\right)} \\cos{\\left(\\frac{r}{2} \\right)} + i \\sin{\\left(\\frac{r}{2} \\right)} \\cos{\\left(\\frac{n}{2} \\right)}\\right) \\left(i \\sin{\\left(\\frac{k}{2} \\right)} \\sin{\\left(\\frac{l}{2} \\right)} + \\cos{\\left(\\frac{k}{2} \\right)} \\cos{\\left(\\frac{l}{2} \\right)}\\right) e^{- \\frac{i j}{2} - \\frac{i m}{2}} \\sin{\\left(a + b \\right)} - 1.0 \\left(\\sin{\\left(\\frac{k}{2} \\right)} \\cos{\\left(\\frac{l}{2} \\right)} + i \\sin{\\left(\\frac{l}{2} \\right)} \\cos{\\left(\\frac{k}{2} \\right)}\\right) \\left(i \\sin{\\left(\\frac{n}{2} \\right)} \\sin{\\left(\\frac{r}{2} \\right)} + \\cos{\\left(\\frac{n}{2} \\right)} \\cos{\\left(\\frac{r}{2} \\right)}\\right) e^{- i c} e^{- \\frac{i j}{2} - \\frac{i m}{2}} \\cos{\\left(a + b \\right)}\\right) e^{\\frac{i d}{2} - \\frac{i g}{2}} + \\left(\\sin{\\left(\\frac{h}{2} \\right)} \\cos{\\left(\\frac{i}{2} \\right)} - i \\sin{\\left(\\frac{i}{2} \\right)} \\cos{\\left(\\frac{h}{2} \\right)}\\right) \\left(i \\sin{\\left(\\frac{e}{2} \\right)} \\sin{\\left(\\frac{f}{2} \\right)} + \\cos{\\left(\\frac{e}{2} \\right)} \\cos{\\left(\\frac{f}{2} \\right)}\\right) \\left(\\left(0.707106781186548 - 0.707106781186547 i\\right)^{2} \\left(i \\sin{\\left(c \\right)} - \\cos{\\left(c \\right)}\\right) \\left(\\sin{\\left(\\frac{k}{2} \\right)} \\cos{\\left(\\frac{l}{2} \\right)} + i \\sin{\\left(\\frac{l}{2} \\right)} \\cos{\\left(\\frac{k}{2} \\right)}\\right) \\left(i \\sin{\\left(\\frac{n}{2} \\right)} \\sin{\\left(\\frac{r}{2} \\right)} + \\cos{\\left(\\frac{n}{2} \\right)} \\cos{\\left(\\frac{r}{2} \\right)}\\right) e^{- \\frac{i j}{2} - \\frac{i m}{2}} \\sin{\\left(a + b \\right)} - 1.0 \\left(\\sin{\\left(\\frac{n}{2} \\right)} \\cos{\\left(\\frac{r}{2} \\right)} + i \\sin{\\left(\\frac{r}{2} \\right)} \\cos{\\left(\\frac{n}{2} \\right)}\\right) \\left(i \\sin{\\left(\\frac{k}{2} \\right)} \\sin{\\left(\\frac{l}{2} \\right)} + \\cos{\\left(\\frac{k}{2} \\right)} \\cos{\\left(\\frac{l}{2} \\right)}\\right) e^{- i c} e^{- \\frac{i j}{2} - \\frac{i m}{2}} \\cos{\\left(a + b \\right)}\\right) e^{- \\frac{i d}{2} + \\frac{i g}{2}} + \\left(i \\sin{\\left(\\frac{e}{2} \\right)} \\sin{\\left(\\frac{f}{2} \\right)} + \\cos{\\left(\\frac{e}{2} \\right)} \\cos{\\left(\\frac{f}{2} \\right)}\\right) \\left(i \\sin{\\left(\\frac{h}{2} \\right)} \\sin{\\left(\\frac{i}{2} \\right)} + \\cos{\\left(\\frac{h}{2} \\right)} \\cos{\\left(\\frac{i}{2} \\right)}\\right) \\left(\\left(0.707106781186548 - 0.707106781186547 i\\right)^{2} \\left(\\sin{\\left(\\frac{k}{2} \\right)} \\cos{\\left(\\frac{l}{2} \\right)} + i \\sin{\\left(\\frac{l}{2} \\right)} \\cos{\\left(\\frac{k}{2} \\right)}\\right) \\left(\\sin{\\left(\\frac{n}{2} \\right)} \\cos{\\left(\\frac{r}{2} \\right)} + i \\sin{\\left(\\frac{r}{2} \\right)} \\cos{\\left(\\frac{n}{2} \\right)}\\right) e^{i c} e^{- \\frac{i j}{2} - \\frac{i m}{2}} \\sin{\\left(a - b \\right)} + 1.0 \\left(i \\sin{\\left(\\frac{k}{2} \\right)} \\sin{\\left(\\frac{l}{2} \\right)} + \\cos{\\left(\\frac{k}{2} \\right)} \\cos{\\left(\\frac{l}{2} \\right)}\\right) \\left(i \\sin{\\left(\\frac{n}{2} \\right)} \\sin{\\left(\\frac{r}{2} \\right)} + \\cos{\\left(\\frac{n}{2} \\right)} \\cos{\\left(\\frac{r}{2} \\right)}\\right) e^{i c} e^{- \\frac{i j}{2} - \\frac{i m}{2}} \\cos{\\left(a - b \\right)}\\right) e^{- \\frac{i d}{2} - \\frac{i g}{2}}$"
      ],
      "text/plain": [
       "(sin(e/2)*cos(f/2) - I*sin(f/2)*cos(e/2))*(sin(h/2)*cos(i/2) - I*sin(i/2)*cos(h/2))*(1.0*(sin(k/2)*cos(l/2) + I*sin(l/2)*cos(k/2))*(sin(n/2)*cos(r/2) + I*sin(r/2)*cos(n/2))*exp(I*c)*exp(-I*j/2 - I*m/2)*cos(a - b) - (0.707106781186548 + 0.707106781186547*I)**2*(I*sin(k/2)*sin(l/2) + cos(k/2)*cos(l/2))*(I*sin(n/2)*sin(r/2) + cos(n/2)*cos(r/2))*exp(I*c)*exp(-I*j/2 - I*m/2)*sin(a - b))*exp(I*d/2 + I*g/2) + (sin(e/2)*cos(f/2) - I*sin(f/2)*cos(e/2))*(I*sin(h/2)*sin(i/2) + cos(h/2)*cos(i/2))*(-(0.707106781186548 + 0.707106781186547*I)**2*(I*sin(c) - cos(c))*(sin(n/2)*cos(r/2) + I*sin(r/2)*cos(n/2))*(I*sin(k/2)*sin(l/2) + cos(k/2)*cos(l/2))*exp(-I*j/2 - I*m/2)*sin(a + b) - 1.0*(sin(k/2)*cos(l/2) + I*sin(l/2)*cos(k/2))*(I*sin(n/2)*sin(r/2) + cos(n/2)*cos(r/2))*exp(-I*c)*exp(-I*j/2 - I*m/2)*cos(a + b))*exp(I*d/2 - I*g/2) + (sin(h/2)*cos(i/2) - I*sin(i/2)*cos(h/2))*(I*sin(e/2)*sin(f/2) + cos(e/2)*cos(f/2))*((0.707106781186548 - 0.707106781186547*I)**2*(I*sin(c) - cos(c))*(sin(k/2)*cos(l/2) + I*sin(l/2)*cos(k/2))*(I*sin(n/2)*sin(r/2) + cos(n/2)*cos(r/2))*exp(-I*j/2 - I*m/2)*sin(a + b) - 1.0*(sin(n/2)*cos(r/2) + I*sin(r/2)*cos(n/2))*(I*sin(k/2)*sin(l/2) + cos(k/2)*cos(l/2))*exp(-I*c)*exp(-I*j/2 - I*m/2)*cos(a + b))*exp(-I*d/2 + I*g/2) + (I*sin(e/2)*sin(f/2) + cos(e/2)*cos(f/2))*(I*sin(h/2)*sin(i/2) + cos(h/2)*cos(i/2))*((0.707106781186548 - 0.707106781186547*I)**2*(sin(k/2)*cos(l/2) + I*sin(l/2)*cos(k/2))*(sin(n/2)*cos(r/2) + I*sin(r/2)*cos(n/2))*exp(I*c)*exp(-I*j/2 - I*m/2)*sin(a - b) + 1.0*(I*sin(k/2)*sin(l/2) + cos(k/2)*cos(l/2))*(I*sin(n/2)*sin(r/2) + cos(n/2)*cos(r/2))*exp(I*c)*exp(-I*j/2 - I*m/2)*cos(a - b))*exp(-I*d/2 - I*g/2)"
      ]
     },
     "execution_count": 23,
     "metadata": {},
     "output_type": "execute_result"
    }
   ],
   "source": [
    "U[0,0]"
   ]
  },
  {
   "cell_type": "markdown",
   "id": "5d60ae9d-70ec-42c8-a885-e677f323643f",
   "metadata": {},
   "source": [
    "E.g. If we would like to decompose the $4x4$ unitary matrix using the method described above, we would need to solve the following system of equations:"
   ]
  },
  {
   "cell_type": "code",
   "execution_count": null,
   "id": "abf11670-006b-46d4-874d-34236790ebbc",
   "metadata": {},
   "outputs": [],
   "source": [
    "system = [eye(4)-U, eye(4)- U@U]\n",
    "vars = [a,b,c,d,e,f,g,h,i,j,k,l,m,n,r]\n",
    "eq= eye(4)-U\n",
    "solution = solve(eq, vars)\n"
   ]
  },
  {
   "cell_type": "markdown",
   "id": "4cc372c7-c9e4-4a4e-b797-f973751d8e65",
   "metadata": {},
   "source": [
    "Due to the complexity of the system of equations exact solvers are extremely inefficient and often run into runtime errors. Thus, numerical solvers should be used. However, this lies outside the scope of our work and area of knowledge."
   ]
  },
  {
   "cell_type": "code",
   "execution_count": null,
   "id": "51203ad5",
   "metadata": {},
   "outputs": [],
   "source": []
  }
 ],
 "metadata": {
  "kernelspec": {
   "display_name": "Python 3 (ipykernel)",
   "language": "python",
   "name": "python3"
  },
  "language_info": {
   "codemirror_mode": {
    "name": "ipython",
    "version": 3
   },
   "file_extension": ".py",
   "mimetype": "text/x-python",
   "name": "python",
   "nbconvert_exporter": "python",
   "pygments_lexer": "ipython3",
   "version": "3.9.15"
  }
 },
 "nbformat": 4,
 "nbformat_minor": 5
}
